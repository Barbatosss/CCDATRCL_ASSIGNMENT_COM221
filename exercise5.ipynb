{
  "cells": [
    {
      "cell_type": "markdown",
      "metadata": {
        "id": "view-in-github",
        "colab_type": "text"
      },
      "source": [
        "<a href=\"https://colab.research.google.com/github/Barbatosss/CCDATRCL_ASSIGNMENT_COM221/blob/main/exercise5.ipynb\" target=\"_parent\"><img src=\"https://colab.research.google.com/assets/colab-badge.svg\" alt=\"Open In Colab\"/></a>"
      ]
    },
    {
      "cell_type": "markdown",
      "metadata": {
        "id": "pmUmX4EmEJ_S"
      },
      "source": [
        "# Exercise 5"
      ]
    },
    {
      "cell_type": "markdown",
      "metadata": {
        "id": "N4Kl6sP-EJ_j"
      },
      "source": [
        "#### 1. Create a dictionary of your 10 favorite songs."
      ]
    },
    {
      "cell_type": "markdown",
      "metadata": {
        "id": "MIsFFYNsEJ_l"
      },
      "source": [
        "Example:\n",
        "\n",
        "|KEY|VALUE|\n",
        "|---|---|\n",
        "|001|My Love|\n",
        "|002|Like a rose|"
      ]
    },
    {
      "cell_type": "code",
      "execution_count": 49,
      "metadata": {
        "id": "b_F5zJALEJ_n"
      },
      "outputs": [],
      "source": [
        "mydictionary = {\n",
        "  \"001\": \"UNFORGIVEN\",\n",
        "  \"002\": \"See You Again\",\n",
        "  \"003\": \"Money Trees\",\n",
        "  \"004\": \"Long Live\",\n",
        "  \"005\": \"N95\",\n",
        "  \"006\": \"HUMBLE\",\n",
        "  \"007\": \"All Too Well(10MinuteVersion)(Taylor's Version)(From The Vault)\",\n",
        "  \"008\": \"Tingin\",\n",
        "  \"009\": \"DALLA DALLA\",\n",
        "  \"010\": \"If I let you go\",\n",
        "}"
      ]
    },
    {
      "cell_type": "markdown",
      "metadata": {
        "id": "IwyilKIUEJ_s"
      },
      "source": [
        "#### 2. Loop through the dictionary by its **key** and **value**"
      ]
    },
    {
      "cell_type": "code",
      "execution_count": 50,
      "metadata": {
        "id": "BrQJ1zB_EJ_t",
        "colab": {
          "base_uri": "https://localhost:8080/"
        },
        "outputId": "d21bb75d-11af-4c20-b1f7-fe368402b8df"
      },
      "outputs": [
        {
          "output_type": "stream",
          "name": "stdout",
          "text": [
            "{'001': 'UNFORGIVEN', '002': 'See You Again', '003': 'Money Trees', '004': 'Long Live', '005': 'N95', '006': 'HUMBLE', '007': \"All Too Well(10MinuteVersion)(Taylor's Version)(From The Vault)\", '008': 'Tingin', '009': 'DALLA DALLA', '010': 'If I let you go'}\n"
          ]
        }
      ],
      "source": [
        "print(mydictionary)"
      ]
    },
    {
      "cell_type": "markdown",
      "metadata": {
        "id": "KAOvUI_TEJ_v"
      },
      "source": [
        "#### 3. Add one additional song"
      ]
    },
    {
      "cell_type": "code",
      "execution_count": 51,
      "metadata": {
        "id": "iY9FBHUVEJ_x",
        "colab": {
          "base_uri": "https://localhost:8080/"
        },
        "outputId": "9c011f17-7791-4f7d-dd3d-32240ff4d23f"
      },
      "outputs": [
        {
          "output_type": "execute_result",
          "data": {
            "text/plain": [
              "{'001': 'UNFORGIVEN',\n",
              " '002': 'See You Again',\n",
              " '003': 'Money Trees',\n",
              " '004': 'Long Live',\n",
              " '005': 'N95',\n",
              " '006': 'HUMBLE',\n",
              " '007': \"All Too Well(10MinuteVersion)(Taylor's Version)(From The Vault)\",\n",
              " '008': 'Tingin',\n",
              " '009': 'DALLA DALLA',\n",
              " '010': 'If I let you go',\n",
              " '011': ('Just the Two of Us',)}"
            ]
          },
          "metadata": {},
          "execution_count": 51
        }
      ],
      "source": [
        "mydictionary[\"011\"] = \"Just the Two of Us\",\n",
        "mydictionary"
      ]
    },
    {
      "cell_type": "markdown",
      "metadata": {
        "id": "wkkIN4GeEJ_z"
      },
      "source": [
        "#### 4. Remove one song"
      ]
    },
    {
      "cell_type": "code",
      "execution_count": 52,
      "metadata": {
        "id": "YbQL-QDlEJ_0",
        "colab": {
          "base_uri": "https://localhost:8080/"
        },
        "outputId": "ae98c60f-b7a9-4d67-e382-382ceea86224"
      },
      "outputs": [
        {
          "output_type": "execute_result",
          "data": {
            "text/plain": [
              "{'001': 'UNFORGIVEN',\n",
              " '002': 'See You Again',\n",
              " '003': 'Money Trees',\n",
              " '004': 'Long Live',\n",
              " '005': 'N95',\n",
              " '006': 'HUMBLE',\n",
              " '007': \"All Too Well(10MinuteVersion)(Taylor's Version)(From The Vault)\",\n",
              " '008': 'Tingin',\n",
              " '009': 'DALLA DALLA',\n",
              " '011': ('Just the Two of Us',)}"
            ]
          },
          "metadata": {},
          "execution_count": 52
        }
      ],
      "source": [
        "mydictionary.pop(\"010\")\n",
        "mydictionary"
      ]
    },
    {
      "cell_type": "markdown",
      "metadata": {
        "id": "xdZXz7r_EJ_1"
      },
      "source": [
        "#### 5. Create a nested dictionary of your 10 favorite songs with 5 genres. Display all of the items of the nested dictionary\n",
        "\n",
        "- Each nested dictionary's key should be the genre of the song\n",
        "- Put each song in their respective genre"
      ]
    },
    {
      "cell_type": "markdown",
      "metadata": {
        "id": "94pxuCu1EJ_2"
      },
      "source": [
        "Example:\n",
        "\n",
        "\n",
        "|KEY|VALUE|\n",
        "|---|---|\n",
        "|Pop|{001, Baby}|\n",
        "|Rock|{001, Enter Sandman}|"
      ]
    },
    {
      "cell_type": "code",
      "execution_count": 53,
      "metadata": {
        "id": "_I5PbpggEJ_3"
      },
      "outputs": [],
      "source": [
        "mydictionary = {\n",
        "  \"KPOP\": {\"001\": \"UNFORGIVEN\",\n",
        "           \"002\": \"DALLA DALLA\",\n",
        "},\n",
        "  \"Hip-Hop\": { \"001\": \"Money Trees\",\n",
        "             \"002\": \"N95\",\n",
        "            \"003\": \"HUMBLE\",\n",
        "},\n",
        "  \"OPM\": {\"001\": \"Tingin\"\n",
        "},\n",
        "  \"POP\": {\"001\": \"See You Again\",\n",
        "          \"002\":\"Just the Two of Us\",\n",
        "          \"003\": \"Long Live\",\n",
        "          \"004\": \"All Too Well(10MinuteVersion)(Taylor's Version)(From The Vault)\",\n",
        "},\n",
        "\n",
        "}"
      ]
    },
    {
      "cell_type": "markdown",
      "metadata": {
        "id": "eK2jmS63EJ_4"
      },
      "source": [
        "#### 6. Print the first song of the first genre"
      ]
    },
    {
      "cell_type": "code",
      "execution_count": 54,
      "metadata": {
        "id": "XYcjuRgfEJ_4",
        "colab": {
          "base_uri": "https://localhost:8080/"
        },
        "outputId": "e5a3c978-b85c-4aa8-b72f-271fec1c638c"
      },
      "outputs": [
        {
          "output_type": "stream",
          "name": "stdout",
          "text": [
            "UNFORGIVEN\n"
          ]
        }
      ],
      "source": [
        "print(mydictionary[\"KPOP\"][\"001\"])"
      ]
    },
    {
      "cell_type": "markdown",
      "metadata": {
        "id": "r0FvfkLiEJ_5"
      },
      "source": [
        "#### 7. Print the first song of the last genre"
      ]
    },
    {
      "cell_type": "code",
      "execution_count": 55,
      "metadata": {
        "id": "4AFUTe_rEJ_6",
        "colab": {
          "base_uri": "https://localhost:8080/"
        },
        "outputId": "55bec3a4-ee4a-41f5-c17e-ca52c1d30338"
      },
      "outputs": [
        {
          "output_type": "stream",
          "name": "stdout",
          "text": [
            "See You Again\n"
          ]
        }
      ],
      "source": [
        "print(mydictionary[\"POP\"][\"001\"])"
      ]
    }
  ],
  "metadata": {
    "kernelspec": {
      "display_name": "Python 3",
      "language": "python",
      "name": "python3"
    },
    "language_info": {
      "codemirror_mode": {
        "name": "ipython",
        "version": 3
      },
      "file_extension": ".py",
      "mimetype": "text/x-python",
      "name": "python",
      "nbconvert_exporter": "python",
      "pygments_lexer": "ipython3",
      "version": "3.11.4"
    },
    "orig_nbformat": 4,
    "colab": {
      "provenance": [],
      "include_colab_link": true
    }
  },
  "nbformat": 4,
  "nbformat_minor": 0
}